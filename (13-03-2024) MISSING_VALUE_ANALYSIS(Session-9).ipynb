{
 "cells": [
  {
   "cell_type": "code",
   "execution_count": 1,
   "id": "d45b1fda",
   "metadata": {},
   "outputs": [],
   "source": [
    "# import our pakages"
   ]
  },
  {
   "cell_type": "code",
   "execution_count": 2,
   "id": "60f641e8",
   "metadata": {},
   "outputs": [],
   "source": [
    "import numpy as np\n",
    "import pandas as pd"
   ]
  },
  {
   "cell_type": "code",
   "execution_count": null,
   "id": "ff6c47cd",
   "metadata": {},
   "outputs": [],
   "source": [
    "# lets create a distionary"
   ]
  },
  {
   "cell_type": "code",
   "execution_count": 4,
   "id": "5a365060",
   "metadata": {},
   "outputs": [],
   "source": [
    "#np.nan gives us the null value\n",
    "dict1={'Names':[np.nan,'pavan','raghu','gopi'],'Age':[21,np.nan,22,34],'qualification':['b.tech','mtech',np.nan,'school']}"
   ]
  },
  {
   "cell_type": "code",
   "execution_count": 7,
   "id": "6fe8792a",
   "metadata": {},
   "outputs": [
    {
     "data": {
      "text/html": [
       "<div>\n",
       "<style scoped>\n",
       "    .dataframe tbody tr th:only-of-type {\n",
       "        vertical-align: middle;\n",
       "    }\n",
       "\n",
       "    .dataframe tbody tr th {\n",
       "        vertical-align: top;\n",
       "    }\n",
       "\n",
       "    .dataframe thead th {\n",
       "        text-align: right;\n",
       "    }\n",
       "</style>\n",
       "<table border=\"1\" class=\"dataframe\">\n",
       "  <thead>\n",
       "    <tr style=\"text-align: right;\">\n",
       "      <th></th>\n",
       "      <th>Names</th>\n",
       "      <th>Age</th>\n",
       "      <th>qualification</th>\n",
       "    </tr>\n",
       "  </thead>\n",
       "  <tbody>\n",
       "    <tr>\n",
       "      <th>0</th>\n",
       "      <td>NaN</td>\n",
       "      <td>21.0</td>\n",
       "      <td>b.tech</td>\n",
       "    </tr>\n",
       "    <tr>\n",
       "      <th>1</th>\n",
       "      <td>pavan</td>\n",
       "      <td>NaN</td>\n",
       "      <td>mtech</td>\n",
       "    </tr>\n",
       "    <tr>\n",
       "      <th>2</th>\n",
       "      <td>raghu</td>\n",
       "      <td>22.0</td>\n",
       "      <td>NaN</td>\n",
       "    </tr>\n",
       "    <tr>\n",
       "      <th>3</th>\n",
       "      <td>gopi</td>\n",
       "      <td>34.0</td>\n",
       "      <td>school</td>\n",
       "    </tr>\n",
       "  </tbody>\n",
       "</table>\n",
       "</div>"
      ],
      "text/plain": [
       "   Names   Age qualification\n",
       "0    NaN  21.0        b.tech\n",
       "1  pavan   NaN         mtech\n",
       "2  raghu  22.0           NaN\n",
       "3   gopi  34.0        school"
      ]
     },
     "execution_count": 7,
     "metadata": {},
     "output_type": "execute_result"
    }
   ],
   "source": [
    "df=pd.DataFrame(dict1)\n",
    "df"
   ]
  },
  {
   "cell_type": "code",
   "execution_count": 9,
   "id": "b8bdb968",
   "metadata": {},
   "outputs": [
    {
     "data": {
      "text/plain": [
       "Names            1\n",
       "Age              1\n",
       "qualification    1\n",
       "dtype: int64"
      ]
     },
     "execution_count": 9,
     "metadata": {},
     "output_type": "execute_result"
    }
   ],
   "source": [
    "df.isnull().sum()\n",
    "#true == null value"
   ]
  },
  {
   "cell_type": "code",
   "execution_count": 10,
   "id": "f6880d75",
   "metadata": {},
   "outputs": [],
   "source": [
    "# now"
   ]
  },
  {
   "cell_type": "code",
   "execution_count": 11,
   "id": "9f9e8fd7",
   "metadata": {},
   "outputs": [],
   "source": [
    "dict2={'Names':[None,'pavan','raghu','gopi'],'Age':[21,None,22,34],'qualification':['b.tech','mtech',None,'school']}"
   ]
  },
  {
   "cell_type": "code",
   "execution_count": 12,
   "id": "03467f09",
   "metadata": {},
   "outputs": [],
   "source": [
    "df=pd.DataFrame(dict2)"
   ]
  },
  {
   "cell_type": "code",
   "execution_count": 13,
   "id": "decfb937",
   "metadata": {},
   "outputs": [
    {
     "data": {
      "text/html": [
       "<div>\n",
       "<style scoped>\n",
       "    .dataframe tbody tr th:only-of-type {\n",
       "        vertical-align: middle;\n",
       "    }\n",
       "\n",
       "    .dataframe tbody tr th {\n",
       "        vertical-align: top;\n",
       "    }\n",
       "\n",
       "    .dataframe thead th {\n",
       "        text-align: right;\n",
       "    }\n",
       "</style>\n",
       "<table border=\"1\" class=\"dataframe\">\n",
       "  <thead>\n",
       "    <tr style=\"text-align: right;\">\n",
       "      <th></th>\n",
       "      <th>Names</th>\n",
       "      <th>Age</th>\n",
       "      <th>qualification</th>\n",
       "    </tr>\n",
       "  </thead>\n",
       "  <tbody>\n",
       "    <tr>\n",
       "      <th>0</th>\n",
       "      <td>None</td>\n",
       "      <td>21.0</td>\n",
       "      <td>b.tech</td>\n",
       "    </tr>\n",
       "    <tr>\n",
       "      <th>1</th>\n",
       "      <td>pavan</td>\n",
       "      <td>NaN</td>\n",
       "      <td>mtech</td>\n",
       "    </tr>\n",
       "    <tr>\n",
       "      <th>2</th>\n",
       "      <td>raghu</td>\n",
       "      <td>22.0</td>\n",
       "      <td>None</td>\n",
       "    </tr>\n",
       "    <tr>\n",
       "      <th>3</th>\n",
       "      <td>gopi</td>\n",
       "      <td>34.0</td>\n",
       "      <td>school</td>\n",
       "    </tr>\n",
       "  </tbody>\n",
       "</table>\n",
       "</div>"
      ],
      "text/plain": [
       "   Names   Age qualification\n",
       "0   None  21.0        b.tech\n",
       "1  pavan   NaN         mtech\n",
       "2  raghu  22.0          None\n",
       "3   gopi  34.0        school"
      ]
     },
     "execution_count": 13,
     "metadata": {},
     "output_type": "execute_result"
    }
   ],
   "source": [
    "df"
   ]
  },
  {
   "cell_type": "markdown",
   "id": "c19df2ff",
   "metadata": {},
   "source": [
    "**NOTE**:None only works for categorical data for numberical data it works at nan only"
   ]
  },
  {
   "cell_type": "code",
   "execution_count": 15,
   "id": "a8f21041",
   "metadata": {},
   "outputs": [
    {
     "data": {
      "text/plain": [
       "Names            1\n",
       "Age              1\n",
       "qualification    1\n",
       "dtype: int64"
      ]
     },
     "execution_count": 15,
     "metadata": {},
     "output_type": "execute_result"
    }
   ],
   "source": [
    "df.isnull().sum()"
   ]
  },
  {
   "cell_type": "code",
   "execution_count": 16,
   "id": "a3772562",
   "metadata": {},
   "outputs": [],
   "source": [
    "#now dist-3\n",
    "dict3={'Names':['None','pavan','raghu','gopi'],'Age':[21,'None',22,34],'qualification':['b.tech','mtech','None','school']}"
   ]
  },
  {
   "cell_type": "code",
   "execution_count": 17,
   "id": "d26f6171",
   "metadata": {},
   "outputs": [],
   "source": [
    "df=pd.DataFrame(dict3)"
   ]
  },
  {
   "cell_type": "code",
   "execution_count": 18,
   "id": "ca881a08",
   "metadata": {},
   "outputs": [
    {
     "data": {
      "text/html": [
       "<div>\n",
       "<style scoped>\n",
       "    .dataframe tbody tr th:only-of-type {\n",
       "        vertical-align: middle;\n",
       "    }\n",
       "\n",
       "    .dataframe tbody tr th {\n",
       "        vertical-align: top;\n",
       "    }\n",
       "\n",
       "    .dataframe thead th {\n",
       "        text-align: right;\n",
       "    }\n",
       "</style>\n",
       "<table border=\"1\" class=\"dataframe\">\n",
       "  <thead>\n",
       "    <tr style=\"text-align: right;\">\n",
       "      <th></th>\n",
       "      <th>Names</th>\n",
       "      <th>Age</th>\n",
       "      <th>qualification</th>\n",
       "    </tr>\n",
       "  </thead>\n",
       "  <tbody>\n",
       "    <tr>\n",
       "      <th>0</th>\n",
       "      <td>None</td>\n",
       "      <td>21</td>\n",
       "      <td>b.tech</td>\n",
       "    </tr>\n",
       "    <tr>\n",
       "      <th>1</th>\n",
       "      <td>pavan</td>\n",
       "      <td>None</td>\n",
       "      <td>mtech</td>\n",
       "    </tr>\n",
       "    <tr>\n",
       "      <th>2</th>\n",
       "      <td>raghu</td>\n",
       "      <td>22</td>\n",
       "      <td>None</td>\n",
       "    </tr>\n",
       "    <tr>\n",
       "      <th>3</th>\n",
       "      <td>gopi</td>\n",
       "      <td>34</td>\n",
       "      <td>school</td>\n",
       "    </tr>\n",
       "  </tbody>\n",
       "</table>\n",
       "</div>"
      ],
      "text/plain": [
       "   Names   Age qualification\n",
       "0   None    21        b.tech\n",
       "1  pavan  None         mtech\n",
       "2  raghu    22          None\n",
       "3   gopi    34        school"
      ]
     },
     "execution_count": 18,
     "metadata": {},
     "output_type": "execute_result"
    }
   ],
   "source": [
    "df"
   ]
  },
  {
   "cell_type": "markdown",
   "id": "12954538",
   "metadata": {},
   "source": [
    "**NOTE:** Here strings will work as string only "
   ]
  },
  {
   "cell_type": "markdown",
   "id": "6514306e",
   "metadata": {},
   "source": [
    "# how to overcome missimg values "
   ]
  },
  {
   "cell_type": "markdown",
   "id": "39f07f58",
   "metadata": {},
   "source": [
    "- Method-1"
   ]
  },
  {
   "cell_type": "markdown",
   "id": "9b9b9407",
   "metadata": {},
   "source": [
    "- FILLING WITH RANDOM NUMBER \n",
    "- DATAFRAME_NAME=DF\n",
    "- METHOD_NAME= Fillna()"
   ]
  },
  {
   "cell_type": "code",
   "execution_count": 22,
   "id": "216a660f",
   "metadata": {},
   "outputs": [],
   "source": [
    "dict1={'Names':[np.nan,'pavan','raghu','gopi'],'Age':[21,np.nan,22,34],'qualification':['b.tech','mtech',np.nan,'school']}"
   ]
  },
  {
   "cell_type": "code",
   "execution_count": 24,
   "id": "cb20c606",
   "metadata": {},
   "outputs": [],
   "source": [
    "df=pd.DataFrame(dict1)"
   ]
  },
  {
   "cell_type": "code",
   "execution_count": 28,
   "id": "bd93fe61",
   "metadata": {},
   "outputs": [
    {
     "data": {
      "text/html": [
       "<div>\n",
       "<style scoped>\n",
       "    .dataframe tbody tr th:only-of-type {\n",
       "        vertical-align: middle;\n",
       "    }\n",
       "\n",
       "    .dataframe tbody tr th {\n",
       "        vertical-align: top;\n",
       "    }\n",
       "\n",
       "    .dataframe thead th {\n",
       "        text-align: right;\n",
       "    }\n",
       "</style>\n",
       "<table border=\"1\" class=\"dataframe\">\n",
       "  <thead>\n",
       "    <tr style=\"text-align: right;\">\n",
       "      <th></th>\n",
       "      <th>Names</th>\n",
       "      <th>Age</th>\n",
       "      <th>qualification</th>\n",
       "    </tr>\n",
       "  </thead>\n",
       "  <tbody>\n",
       "    <tr>\n",
       "      <th>0</th>\n",
       "      <td>20</td>\n",
       "      <td>21.0</td>\n",
       "      <td>b.tech</td>\n",
       "    </tr>\n",
       "    <tr>\n",
       "      <th>1</th>\n",
       "      <td>pavan</td>\n",
       "      <td>20.0</td>\n",
       "      <td>mtech</td>\n",
       "    </tr>\n",
       "    <tr>\n",
       "      <th>2</th>\n",
       "      <td>raghu</td>\n",
       "      <td>22.0</td>\n",
       "      <td>20</td>\n",
       "    </tr>\n",
       "    <tr>\n",
       "      <th>3</th>\n",
       "      <td>gopi</td>\n",
       "      <td>34.0</td>\n",
       "      <td>school</td>\n",
       "    </tr>\n",
       "  </tbody>\n",
       "</table>\n",
       "</div>"
      ],
      "text/plain": [
       "   Names   Age qualification\n",
       "0     20  21.0        b.tech\n",
       "1  pavan  20.0         mtech\n",
       "2  raghu  22.0            20\n",
       "3   gopi  34.0        school"
      ]
     },
     "execution_count": 28,
     "metadata": {},
     "output_type": "execute_result"
    }
   ],
   "source": [
    "df.fillna(20)\n",
    "#our entire data is filled with 20"
   ]
  },
  {
   "cell_type": "code",
   "execution_count": 27,
   "id": "862efb97",
   "metadata": {},
   "outputs": [
    {
     "data": {
      "text/html": [
       "<div>\n",
       "<style scoped>\n",
       "    .dataframe tbody tr th:only-of-type {\n",
       "        vertical-align: middle;\n",
       "    }\n",
       "\n",
       "    .dataframe tbody tr th {\n",
       "        vertical-align: top;\n",
       "    }\n",
       "\n",
       "    .dataframe thead th {\n",
       "        text-align: right;\n",
       "    }\n",
       "</style>\n",
       "<table border=\"1\" class=\"dataframe\">\n",
       "  <thead>\n",
       "    <tr style=\"text-align: right;\">\n",
       "      <th></th>\n",
       "      <th>Names</th>\n",
       "      <th>Age</th>\n",
       "      <th>qualification</th>\n",
       "    </tr>\n",
       "  </thead>\n",
       "  <tbody>\n",
       "    <tr>\n",
       "      <th>0</th>\n",
       "      <td>NaN</td>\n",
       "      <td>21.0</td>\n",
       "      <td>b.tech</td>\n",
       "    </tr>\n",
       "    <tr>\n",
       "      <th>1</th>\n",
       "      <td>pavan</td>\n",
       "      <td>NaN</td>\n",
       "      <td>mtech</td>\n",
       "    </tr>\n",
       "    <tr>\n",
       "      <th>2</th>\n",
       "      <td>raghu</td>\n",
       "      <td>22.0</td>\n",
       "      <td>NaN</td>\n",
       "    </tr>\n",
       "    <tr>\n",
       "      <th>3</th>\n",
       "      <td>gopi</td>\n",
       "      <td>34.0</td>\n",
       "      <td>school</td>\n",
       "    </tr>\n",
       "  </tbody>\n",
       "</table>\n",
       "</div>"
      ],
      "text/plain": [
       "   Names   Age qualification\n",
       "0    NaN  21.0        b.tech\n",
       "1  pavan   NaN         mtech\n",
       "2  raghu  22.0           NaN\n",
       "3   gopi  34.0        school"
      ]
     },
     "execution_count": 27,
     "metadata": {},
     "output_type": "execute_result"
    }
   ],
   "source": [
    "df"
   ]
  },
  {
   "cell_type": "code",
   "execution_count": 29,
   "id": "126fec43",
   "metadata": {},
   "outputs": [],
   "source": [
    "# if inplace=True then ?\n",
    "df.fillna(20,inplace=True)\n",
    "#inplace will over ride our null values and places our values"
   ]
  },
  {
   "cell_type": "code",
   "execution_count": 30,
   "id": "e733121e",
   "metadata": {},
   "outputs": [
    {
     "data": {
      "text/html": [
       "<div>\n",
       "<style scoped>\n",
       "    .dataframe tbody tr th:only-of-type {\n",
       "        vertical-align: middle;\n",
       "    }\n",
       "\n",
       "    .dataframe tbody tr th {\n",
       "        vertical-align: top;\n",
       "    }\n",
       "\n",
       "    .dataframe thead th {\n",
       "        text-align: right;\n",
       "    }\n",
       "</style>\n",
       "<table border=\"1\" class=\"dataframe\">\n",
       "  <thead>\n",
       "    <tr style=\"text-align: right;\">\n",
       "      <th></th>\n",
       "      <th>Names</th>\n",
       "      <th>Age</th>\n",
       "      <th>qualification</th>\n",
       "    </tr>\n",
       "  </thead>\n",
       "  <tbody>\n",
       "    <tr>\n",
       "      <th>0</th>\n",
       "      <td>20</td>\n",
       "      <td>21.0</td>\n",
       "      <td>b.tech</td>\n",
       "    </tr>\n",
       "    <tr>\n",
       "      <th>1</th>\n",
       "      <td>pavan</td>\n",
       "      <td>20.0</td>\n",
       "      <td>mtech</td>\n",
       "    </tr>\n",
       "    <tr>\n",
       "      <th>2</th>\n",
       "      <td>raghu</td>\n",
       "      <td>22.0</td>\n",
       "      <td>20</td>\n",
       "    </tr>\n",
       "    <tr>\n",
       "      <th>3</th>\n",
       "      <td>gopi</td>\n",
       "      <td>34.0</td>\n",
       "      <td>school</td>\n",
       "    </tr>\n",
       "  </tbody>\n",
       "</table>\n",
       "</div>"
      ],
      "text/plain": [
       "   Names   Age qualification\n",
       "0     20  21.0        b.tech\n",
       "1  pavan  20.0         mtech\n",
       "2  raghu  22.0            20\n",
       "3   gopi  34.0        school"
      ]
     },
     "execution_count": 30,
     "metadata": {},
     "output_type": "execute_result"
    }
   ],
   "source": [
    "df"
   ]
  },
  {
   "cell_type": "markdown",
   "id": "ef2aaedd",
   "metadata": {},
   "source": [
    "# Method-2\n",
    "- Filling missing value with a random number in specific column"
   ]
  },
  {
   "cell_type": "code",
   "execution_count": null,
   "id": "f74fbffe",
   "metadata": {},
   "outputs": [],
   "source": [
    "dict1={'Names':[np.nan,'pavan','raghu','gopi'],'Age':[21,np.nan,22,34],'qualification':['b.tech','mtech',np.nan,'school']}"
   ]
  },
  {
   "cell_type": "code",
   "execution_count": 31,
   "id": "f7c140eb",
   "metadata": {},
   "outputs": [],
   "source": [
    "df=pd.DataFrame(dict1)"
   ]
  },
  {
   "cell_type": "code",
   "execution_count": 38,
   "id": "4e6776d5",
   "metadata": {},
   "outputs": [],
   "source": [
    "df['Names']=df['Names'].fillna('dhoni')"
   ]
  },
  {
   "cell_type": "code",
   "execution_count": 36,
   "id": "7ce5cd85",
   "metadata": {},
   "outputs": [
    {
     "data": {
      "text/html": [
       "<div>\n",
       "<style scoped>\n",
       "    .dataframe tbody tr th:only-of-type {\n",
       "        vertical-align: middle;\n",
       "    }\n",
       "\n",
       "    .dataframe tbody tr th {\n",
       "        vertical-align: top;\n",
       "    }\n",
       "\n",
       "    .dataframe thead th {\n",
       "        text-align: right;\n",
       "    }\n",
       "</style>\n",
       "<table border=\"1\" class=\"dataframe\">\n",
       "  <thead>\n",
       "    <tr style=\"text-align: right;\">\n",
       "      <th></th>\n",
       "      <th>Names</th>\n",
       "      <th>Age</th>\n",
       "      <th>qualification</th>\n",
       "    </tr>\n",
       "  </thead>\n",
       "  <tbody>\n",
       "    <tr>\n",
       "      <th>0</th>\n",
       "      <td>dhoni</td>\n",
       "      <td>21.0</td>\n",
       "      <td>b.tech</td>\n",
       "    </tr>\n",
       "    <tr>\n",
       "      <th>1</th>\n",
       "      <td>pavan</td>\n",
       "      <td>NaN</td>\n",
       "      <td>mtech</td>\n",
       "    </tr>\n",
       "    <tr>\n",
       "      <th>2</th>\n",
       "      <td>raghu</td>\n",
       "      <td>22.0</td>\n",
       "      <td>NaN</td>\n",
       "    </tr>\n",
       "    <tr>\n",
       "      <th>3</th>\n",
       "      <td>gopi</td>\n",
       "      <td>34.0</td>\n",
       "      <td>school</td>\n",
       "    </tr>\n",
       "  </tbody>\n",
       "</table>\n",
       "</div>"
      ],
      "text/plain": [
       "   Names   Age qualification\n",
       "0  dhoni  21.0        b.tech\n",
       "1  pavan   NaN         mtech\n",
       "2  raghu  22.0           NaN\n",
       "3   gopi  34.0        school"
      ]
     },
     "execution_count": 36,
     "metadata": {},
     "output_type": "execute_result"
    }
   ],
   "source": [
    "df"
   ]
  },
  {
   "cell_type": "markdown",
   "id": "41e2c8ee",
   "metadata": {},
   "source": [
    "# Method-3"
   ]
  },
  {
   "cell_type": "markdown",
   "id": "50045485",
   "metadata": {},
   "source": [
    "- we have some methods as \n",
    "  - bfill\n",
    "  - ffill\n",
    "  - backfill\n",
    "  - pad"
   ]
  },
  {
   "cell_type": "markdown",
   "id": "b82c25bc",
   "metadata": {},
   "source": [
    "**NOTE**: THUS METHODS CAN BE AXCESSED BY ONLY (FILLNA) METHOD"
   ]
  },
  {
   "cell_type": "code",
   "execution_count": 40,
   "id": "5cba1068",
   "metadata": {},
   "outputs": [
    {
     "data": {
      "text/html": [
       "<div>\n",
       "<style scoped>\n",
       "    .dataframe tbody tr th:only-of-type {\n",
       "        vertical-align: middle;\n",
       "    }\n",
       "\n",
       "    .dataframe tbody tr th {\n",
       "        vertical-align: top;\n",
       "    }\n",
       "\n",
       "    .dataframe thead th {\n",
       "        text-align: right;\n",
       "    }\n",
       "</style>\n",
       "<table border=\"1\" class=\"dataframe\">\n",
       "  <thead>\n",
       "    <tr style=\"text-align: right;\">\n",
       "      <th></th>\n",
       "      <th>Names</th>\n",
       "      <th>Age</th>\n",
       "      <th>qualification</th>\n",
       "    </tr>\n",
       "  </thead>\n",
       "  <tbody>\n",
       "    <tr>\n",
       "      <th>0</th>\n",
       "      <td>NaN</td>\n",
       "      <td>21.0</td>\n",
       "      <td>b.tech</td>\n",
       "    </tr>\n",
       "    <tr>\n",
       "      <th>1</th>\n",
       "      <td>pavan</td>\n",
       "      <td>NaN</td>\n",
       "      <td>mtech</td>\n",
       "    </tr>\n",
       "    <tr>\n",
       "      <th>2</th>\n",
       "      <td>raghu</td>\n",
       "      <td>22.0</td>\n",
       "      <td>NaN</td>\n",
       "    </tr>\n",
       "    <tr>\n",
       "      <th>3</th>\n",
       "      <td>gopi</td>\n",
       "      <td>34.0</td>\n",
       "      <td>school</td>\n",
       "    </tr>\n",
       "  </tbody>\n",
       "</table>\n",
       "</div>"
      ],
      "text/plain": [
       "   Names   Age qualification\n",
       "0    NaN  21.0        b.tech\n",
       "1  pavan   NaN         mtech\n",
       "2  raghu  22.0           NaN\n",
       "3   gopi  34.0        school"
      ]
     },
     "execution_count": 40,
     "metadata": {},
     "output_type": "execute_result"
    }
   ],
   "source": [
    "#readdata again\n",
    "dict1={'Names':[np.nan,'pavan','raghu','gopi'],'Age':[21,np.nan,22,34],'qualification':['b.tech','mtech',np.nan,'school']}\n",
    "df=pd.DataFrame(dict1)\n",
    "df"
   ]
  },
  {
   "cell_type": "markdown",
   "id": "aa3fdeb1",
   "metadata": {},
   "source": [
    "- bfill"
   ]
  },
  {
   "cell_type": "code",
   "execution_count": 42,
   "id": "0c2cf008",
   "metadata": {},
   "outputs": [
    {
     "data": {
      "text/html": [
       "<div>\n",
       "<style scoped>\n",
       "    .dataframe tbody tr th:only-of-type {\n",
       "        vertical-align: middle;\n",
       "    }\n",
       "\n",
       "    .dataframe tbody tr th {\n",
       "        vertical-align: top;\n",
       "    }\n",
       "\n",
       "    .dataframe thead th {\n",
       "        text-align: right;\n",
       "    }\n",
       "</style>\n",
       "<table border=\"1\" class=\"dataframe\">\n",
       "  <thead>\n",
       "    <tr style=\"text-align: right;\">\n",
       "      <th></th>\n",
       "      <th>Names</th>\n",
       "      <th>Age</th>\n",
       "      <th>qualification</th>\n",
       "    </tr>\n",
       "  </thead>\n",
       "  <tbody>\n",
       "    <tr>\n",
       "      <th>0</th>\n",
       "      <td>pavan</td>\n",
       "      <td>21.0</td>\n",
       "      <td>b.tech</td>\n",
       "    </tr>\n",
       "    <tr>\n",
       "      <th>1</th>\n",
       "      <td>pavan</td>\n",
       "      <td>22.0</td>\n",
       "      <td>mtech</td>\n",
       "    </tr>\n",
       "    <tr>\n",
       "      <th>2</th>\n",
       "      <td>raghu</td>\n",
       "      <td>22.0</td>\n",
       "      <td>school</td>\n",
       "    </tr>\n",
       "    <tr>\n",
       "      <th>3</th>\n",
       "      <td>gopi</td>\n",
       "      <td>34.0</td>\n",
       "      <td>school</td>\n",
       "    </tr>\n",
       "  </tbody>\n",
       "</table>\n",
       "</div>"
      ],
      "text/plain": [
       "   Names   Age qualification\n",
       "0  pavan  21.0        b.tech\n",
       "1  pavan  22.0         mtech\n",
       "2  raghu  22.0        school\n",
       "3   gopi  34.0        school"
      ]
     },
     "execution_count": 42,
     "metadata": {},
     "output_type": "execute_result"
    }
   ],
   "source": [
    "#here we have method= attribute inside the fillna .their use our method\n",
    "df.fillna(method='bfill')\n",
    "# here our back side data will be filled at that null places"
   ]
  },
  {
   "cell_type": "code",
   "execution_count": null,
   "id": "8dbd2b64",
   "metadata": {},
   "outputs": [],
   "source": [
    "# here our names index=0 is null,age index=1 is null, qualification index-2 is null thus are filled with backside data"
   ]
  },
  {
   "cell_type": "markdown",
   "id": "459dd471",
   "metadata": {},
   "source": [
    "- ffill"
   ]
  },
  {
   "cell_type": "code",
   "execution_count": 44,
   "id": "ed19f39d",
   "metadata": {},
   "outputs": [
    {
     "data": {
      "text/html": [
       "<div>\n",
       "<style scoped>\n",
       "    .dataframe tbody tr th:only-of-type {\n",
       "        vertical-align: middle;\n",
       "    }\n",
       "\n",
       "    .dataframe tbody tr th {\n",
       "        vertical-align: top;\n",
       "    }\n",
       "\n",
       "    .dataframe thead th {\n",
       "        text-align: right;\n",
       "    }\n",
       "</style>\n",
       "<table border=\"1\" class=\"dataframe\">\n",
       "  <thead>\n",
       "    <tr style=\"text-align: right;\">\n",
       "      <th></th>\n",
       "      <th>Names</th>\n",
       "      <th>Age</th>\n",
       "      <th>qualification</th>\n",
       "    </tr>\n",
       "  </thead>\n",
       "  <tbody>\n",
       "    <tr>\n",
       "      <th>0</th>\n",
       "      <td>NaN</td>\n",
       "      <td>21.0</td>\n",
       "      <td>b.tech</td>\n",
       "    </tr>\n",
       "    <tr>\n",
       "      <th>1</th>\n",
       "      <td>pavan</td>\n",
       "      <td>21.0</td>\n",
       "      <td>mtech</td>\n",
       "    </tr>\n",
       "    <tr>\n",
       "      <th>2</th>\n",
       "      <td>raghu</td>\n",
       "      <td>22.0</td>\n",
       "      <td>mtech</td>\n",
       "    </tr>\n",
       "    <tr>\n",
       "      <th>3</th>\n",
       "      <td>gopi</td>\n",
       "      <td>34.0</td>\n",
       "      <td>school</td>\n",
       "    </tr>\n",
       "  </tbody>\n",
       "</table>\n",
       "</div>"
      ],
      "text/plain": [
       "   Names   Age qualification\n",
       "0    NaN  21.0        b.tech\n",
       "1  pavan  21.0         mtech\n",
       "2  raghu  22.0         mtech\n",
       "3   gopi  34.0        school"
      ]
     },
     "execution_count": 44,
     "metadata": {},
     "output_type": "execute_result"
    }
   ],
   "source": [
    "df.fillna(method='ffill')\n",
    "# it is also similar with bfill \n",
    "# but here it is filled with frontside values"
   ]
  },
  {
   "cell_type": "markdown",
   "id": "a645b546",
   "metadata": {},
   "source": [
    "- Backfill"
   ]
  },
  {
   "cell_type": "code",
   "execution_count": 48,
   "id": "7fc82379",
   "metadata": {},
   "outputs": [],
   "source": [
    "df.fillna(method='backfill',inplace=True)\n",
    "# it is same as bfill"
   ]
  },
  {
   "cell_type": "code",
   "execution_count": 50,
   "id": "b4d511aa",
   "metadata": {},
   "outputs": [
    {
     "data": {
      "text/html": [
       "<div>\n",
       "<style scoped>\n",
       "    .dataframe tbody tr th:only-of-type {\n",
       "        vertical-align: middle;\n",
       "    }\n",
       "\n",
       "    .dataframe tbody tr th {\n",
       "        vertical-align: top;\n",
       "    }\n",
       "\n",
       "    .dataframe thead th {\n",
       "        text-align: right;\n",
       "    }\n",
       "</style>\n",
       "<table border=\"1\" class=\"dataframe\">\n",
       "  <thead>\n",
       "    <tr style=\"text-align: right;\">\n",
       "      <th></th>\n",
       "      <th>Names</th>\n",
       "      <th>Age</th>\n",
       "      <th>qualification</th>\n",
       "    </tr>\n",
       "  </thead>\n",
       "  <tbody>\n",
       "    <tr>\n",
       "      <th>0</th>\n",
       "      <td>pavan</td>\n",
       "      <td>21.0</td>\n",
       "      <td>b.tech</td>\n",
       "    </tr>\n",
       "    <tr>\n",
       "      <th>1</th>\n",
       "      <td>pavan</td>\n",
       "      <td>22.0</td>\n",
       "      <td>mtech</td>\n",
       "    </tr>\n",
       "    <tr>\n",
       "      <th>2</th>\n",
       "      <td>raghu</td>\n",
       "      <td>22.0</td>\n",
       "      <td>school</td>\n",
       "    </tr>\n",
       "    <tr>\n",
       "      <th>3</th>\n",
       "      <td>gopi</td>\n",
       "      <td>34.0</td>\n",
       "      <td>school</td>\n",
       "    </tr>\n",
       "  </tbody>\n",
       "</table>\n",
       "</div>"
      ],
      "text/plain": [
       "   Names   Age qualification\n",
       "0  pavan  21.0        b.tech\n",
       "1  pavan  22.0         mtech\n",
       "2  raghu  22.0        school\n",
       "3   gopi  34.0        school"
      ]
     },
     "execution_count": 50,
     "metadata": {},
     "output_type": "execute_result"
    }
   ],
   "source": [
    "df"
   ]
  },
  {
   "cell_type": "markdown",
   "id": "b9233c64",
   "metadata": {},
   "source": [
    "**NOTE:** BACKFILL==BFILL"
   ]
  },
  {
   "cell_type": "markdown",
   "id": "bb61e91b",
   "metadata": {},
   "source": [
    "# Method-4"
   ]
  },
  {
   "cell_type": "markdown",
   "id": "9246eff2",
   "metadata": {},
   "source": [
    "- MEAN \n",
    "- MEDAIN \n",
    "- MODE"
   ]
  },
  {
   "cell_type": "markdown",
   "id": "2ac3163b",
   "metadata": {},
   "source": [
    "- as we know that mean,median,mode works with numerical columns only\n",
    "- here instide of filling with a random number we replace by mean,medain values"
   ]
  },
  {
   "cell_type": "code",
   "execution_count": 53,
   "id": "5e2bc8bb",
   "metadata": {},
   "outputs": [],
   "source": [
    "# take the colum\n",
    "dict1={'Names':[np.nan,'pavan','raghu','gopi'],'Age':[21,np.nan,22,34],'qualification':['b.tech','mtech',np.nan,'school']}"
   ]
  },
  {
   "cell_type": "code",
   "execution_count": 55,
   "id": "84d73c29",
   "metadata": {},
   "outputs": [],
   "source": [
    "df=pd.DataFrame(dict1)"
   ]
  },
  {
   "cell_type": "code",
   "execution_count": 59,
   "id": "a5bba108",
   "metadata": {},
   "outputs": [
    {
     "data": {
      "text/plain": [
       "25.666666666666668"
      ]
     },
     "execution_count": 59,
     "metadata": {},
     "output_type": "execute_result"
    }
   ],
   "source": [
    "age_mean=df['Age'].mean()\n",
    "age_mean"
   ]
  },
  {
   "cell_type": "code",
   "execution_count": 63,
   "id": "c308a7e5",
   "metadata": {},
   "outputs": [
    {
     "data": {
      "text/plain": [
       "0    21.000000\n",
       "1    25.666667\n",
       "2    22.000000\n",
       "3    34.000000\n",
       "Name: Age, dtype: float64"
      ]
     },
     "execution_count": 63,
     "metadata": {},
     "output_type": "execute_result"
    }
   ],
   "source": [
    "# now replace thus by method fiilna\n",
    "op=df['Age'].fillna(age_mean)\n",
    "op"
   ]
  },
  {
   "cell_type": "markdown",
   "id": "5586fafe",
   "metadata": {},
   "source": [
    "- Median"
   ]
  },
  {
   "cell_type": "code",
   "execution_count": 67,
   "id": "eed64451",
   "metadata": {},
   "outputs": [
    {
     "data": {
      "text/plain": [
       "22.0"
      ]
     },
     "execution_count": 67,
     "metadata": {},
     "output_type": "execute_result"
    }
   ],
   "source": [
    "age_medain=df['Age'].median()\n",
    "age_medain"
   ]
  },
  {
   "cell_type": "code",
   "execution_count": 69,
   "id": "cc0f5afe",
   "metadata": {},
   "outputs": [
    {
     "data": {
      "text/plain": [
       "0    21.0\n",
       "1    22.0\n",
       "2    22.0\n",
       "3    34.0\n",
       "Name: Age, dtype: float64"
      ]
     },
     "execution_count": 69,
     "metadata": {},
     "output_type": "execute_result"
    }
   ],
   "source": [
    "# now replace thus by method called as fillna\n",
    "df['Age'].fillna(age_medain)"
   ]
  },
  {
   "cell_type": "markdown",
   "id": "c0be640c",
   "metadata": {},
   "source": [
    "# Method-5"
   ]
  },
  {
   "cell_type": "markdown",
   "id": "06447b98",
   "metadata": {},
   "source": [
    "- KNNImuper\n",
    "- which imputes the value"
   ]
  },
  {
   "cell_type": "markdown",
   "id": "583452e5",
   "metadata": {},
   "source": [
    "- KNN is k neariest neighoubers"
   ]
  },
  {
   "cell_type": "markdown",
   "id": "1823d42a",
   "metadata": {},
   "source": [
    "- IN this method inside of take mean of all values \n",
    "- knn will take the mean of surrouding neariest neighoubers &\n",
    "- fill the nan value with that value"
   ]
  },
  {
   "cell_type": "code",
   "execution_count": 70,
   "id": "195163cb",
   "metadata": {},
   "outputs": [],
   "source": [
    "# it is in sklearn package"
   ]
  },
  {
   "cell_type": "code",
   "execution_count": 85,
   "id": "5fdd7e08",
   "metadata": {},
   "outputs": [],
   "source": [
    "from sklearn.impute import KNNImputer\n",
    "knn=KNNImputer(n_neighbors=2)#n_neighbors=5 meaning is how many neighors u want to mean bydefault =5"
   ]
  },
  {
   "cell_type": "code",
   "execution_count": 86,
   "id": "06213d8d",
   "metadata": {},
   "outputs": [
    {
     "data": {
      "text/plain": [
       "array([[21.        ],\n",
       "       [25.66666667],\n",
       "       [22.        ],\n",
       "       [34.        ]])"
      ]
     },
     "execution_count": 86,
     "metadata": {},
     "output_type": "execute_result"
    }
   ],
   "source": [
    "knn.fit_transform(df[['Age']])"
   ]
  },
  {
   "cell_type": "code",
   "execution_count": 87,
   "id": "fe792b04",
   "metadata": {},
   "outputs": [
    {
     "data": {
      "text/html": [
       "<div>\n",
       "<style scoped>\n",
       "    .dataframe tbody tr th:only-of-type {\n",
       "        vertical-align: middle;\n",
       "    }\n",
       "\n",
       "    .dataframe tbody tr th {\n",
       "        vertical-align: top;\n",
       "    }\n",
       "\n",
       "    .dataframe thead th {\n",
       "        text-align: right;\n",
       "    }\n",
       "</style>\n",
       "<table border=\"1\" class=\"dataframe\">\n",
       "  <thead>\n",
       "    <tr style=\"text-align: right;\">\n",
       "      <th></th>\n",
       "      <th>Names</th>\n",
       "      <th>Age</th>\n",
       "      <th>qualification</th>\n",
       "    </tr>\n",
       "  </thead>\n",
       "  <tbody>\n",
       "    <tr>\n",
       "      <th>0</th>\n",
       "      <td>NaN</td>\n",
       "      <td>21.0</td>\n",
       "      <td>b.tech</td>\n",
       "    </tr>\n",
       "    <tr>\n",
       "      <th>1</th>\n",
       "      <td>pavan</td>\n",
       "      <td>NaN</td>\n",
       "      <td>mtech</td>\n",
       "    </tr>\n",
       "    <tr>\n",
       "      <th>2</th>\n",
       "      <td>raghu</td>\n",
       "      <td>22.0</td>\n",
       "      <td>NaN</td>\n",
       "    </tr>\n",
       "    <tr>\n",
       "      <th>3</th>\n",
       "      <td>gopi</td>\n",
       "      <td>34.0</td>\n",
       "      <td>school</td>\n",
       "    </tr>\n",
       "  </tbody>\n",
       "</table>\n",
       "</div>"
      ],
      "text/plain": [
       "   Names   Age qualification\n",
       "0    NaN  21.0        b.tech\n",
       "1  pavan   NaN         mtech\n",
       "2  raghu  22.0           NaN\n",
       "3   gopi  34.0        school"
      ]
     },
     "execution_count": 87,
     "metadata": {},
     "output_type": "execute_result"
    }
   ],
   "source": [
    "df"
   ]
  },
  {
   "cell_type": "code",
   "execution_count": null,
   "id": "cf317a6e",
   "metadata": {},
   "outputs": [],
   "source": []
  }
 ],
 "metadata": {
  "kernelspec": {
   "display_name": "Python 3 (ipykernel)",
   "language": "python",
   "name": "python3"
  },
  "language_info": {
   "codemirror_mode": {
    "name": "ipython",
    "version": 3
   },
   "file_extension": ".py",
   "mimetype": "text/x-python",
   "name": "python",
   "nbconvert_exporter": "python",
   "pygments_lexer": "ipython3",
   "version": "3.11.5"
  }
 },
 "nbformat": 4,
 "nbformat_minor": 5
}
